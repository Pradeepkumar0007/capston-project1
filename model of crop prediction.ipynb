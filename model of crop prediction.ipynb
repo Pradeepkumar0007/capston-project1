{
 "cells": [
  {
   "cell_type": "code",
   "execution_count": 1,
   "id": "71fd01ba",
   "metadata": {},
   "outputs": [],
   "source": [
    "#here creating a machine learning model through which we can predict the\n",
    "#  the crop based on the features ph,temperature,humidity,rainfall"
   ]
  },
  {
   "cell_type": "code",
   "execution_count": 2,
   "id": "e8ca459e",
   "metadata": {},
   "outputs": [],
   "source": [
    "import numpy as np"
   ]
  },
  {
   "cell_type": "code",
   "execution_count": 3,
   "id": "4e6b39c0",
   "metadata": {},
   "outputs": [],
   "source": [
    "import pandas as pd"
   ]
  },
  {
   "cell_type": "code",
   "execution_count": 32,
   "id": "5c6a14b9",
   "metadata": {},
   "outputs": [],
   "source": [
    "from sklearn.preprocessing import LabelEncoder"
   ]
  },
  {
   "cell_type": "code",
   "execution_count": 33,
   "id": "6b7c6942",
   "metadata": {},
   "outputs": [],
   "source": [
    "lb=LabelEncoder()"
   ]
  },
  {
   "cell_type": "code",
   "execution_count": 29,
   "id": "a17bea38",
   "metadata": {},
   "outputs": [],
   "source": [
    "vf=vf=pd.read_csv(r\"C:\\Users\\pk859\\Downloads\\2.Crop Dependence on Various Factors.csv\")"
   ]
  },
  {
   "cell_type": "code",
   "execution_count": 30,
   "id": "57bc3c1f",
   "metadata": {},
   "outputs": [
    {
     "data": {
      "text/html": [
       "<div>\n",
       "<style scoped>\n",
       "    .dataframe tbody tr th:only-of-type {\n",
       "        vertical-align: middle;\n",
       "    }\n",
       "\n",
       "    .dataframe tbody tr th {\n",
       "        vertical-align: top;\n",
       "    }\n",
       "\n",
       "    .dataframe thead th {\n",
       "        text-align: right;\n",
       "    }\n",
       "</style>\n",
       "<table border=\"1\" class=\"dataframe\">\n",
       "  <thead>\n",
       "    <tr style=\"text-align: right;\">\n",
       "      <th></th>\n",
       "      <th>temperature</th>\n",
       "      <th>humidity</th>\n",
       "      <th>ph</th>\n",
       "      <th>rainfall</th>\n",
       "      <th>label</th>\n",
       "    </tr>\n",
       "  </thead>\n",
       "  <tbody>\n",
       "    <tr>\n",
       "      <th>0</th>\n",
       "      <td>20.879744</td>\n",
       "      <td>82.002744</td>\n",
       "      <td>6.502985</td>\n",
       "      <td>202.935536</td>\n",
       "      <td>rice</td>\n",
       "    </tr>\n",
       "    <tr>\n",
       "      <th>1</th>\n",
       "      <td>21.770462</td>\n",
       "      <td>80.319644</td>\n",
       "      <td>7.038096</td>\n",
       "      <td>226.655537</td>\n",
       "      <td>rice</td>\n",
       "    </tr>\n",
       "    <tr>\n",
       "      <th>2</th>\n",
       "      <td>23.004459</td>\n",
       "      <td>82.320763</td>\n",
       "      <td>7.840207</td>\n",
       "      <td>263.964248</td>\n",
       "      <td>rice</td>\n",
       "    </tr>\n",
       "    <tr>\n",
       "      <th>3</th>\n",
       "      <td>26.491096</td>\n",
       "      <td>80.158363</td>\n",
       "      <td>6.980401</td>\n",
       "      <td>242.864034</td>\n",
       "      <td>rice</td>\n",
       "    </tr>\n",
       "    <tr>\n",
       "      <th>4</th>\n",
       "      <td>20.130175</td>\n",
       "      <td>81.604873</td>\n",
       "      <td>7.628473</td>\n",
       "      <td>262.717340</td>\n",
       "      <td>rice</td>\n",
       "    </tr>\n",
       "    <tr>\n",
       "      <th>...</th>\n",
       "      <td>...</td>\n",
       "      <td>...</td>\n",
       "      <td>...</td>\n",
       "      <td>...</td>\n",
       "      <td>...</td>\n",
       "    </tr>\n",
       "    <tr>\n",
       "      <th>3095</th>\n",
       "      <td>25.287846</td>\n",
       "      <td>89.636679</td>\n",
       "      <td>6.765095</td>\n",
       "      <td>58.286977</td>\n",
       "      <td>watermelon</td>\n",
       "    </tr>\n",
       "    <tr>\n",
       "      <th>3096</th>\n",
       "      <td>26.638386</td>\n",
       "      <td>84.695469</td>\n",
       "      <td>6.189214</td>\n",
       "      <td>48.324286</td>\n",
       "      <td>watermelon</td>\n",
       "    </tr>\n",
       "    <tr>\n",
       "      <th>3097</th>\n",
       "      <td>25.331045</td>\n",
       "      <td>84.305338</td>\n",
       "      <td>6.904242</td>\n",
       "      <td>41.532187</td>\n",
       "      <td>watermelon</td>\n",
       "    </tr>\n",
       "    <tr>\n",
       "      <th>3098</th>\n",
       "      <td>26.897502</td>\n",
       "      <td>83.892415</td>\n",
       "      <td>6.463271</td>\n",
       "      <td>43.971937</td>\n",
       "      <td>watermelon</td>\n",
       "    </tr>\n",
       "    <tr>\n",
       "      <th>3099</th>\n",
       "      <td>26.986037</td>\n",
       "      <td>89.413849</td>\n",
       "      <td>6.260839</td>\n",
       "      <td>58.548767</td>\n",
       "      <td>watermelon</td>\n",
       "    </tr>\n",
       "  </tbody>\n",
       "</table>\n",
       "<p>3100 rows × 5 columns</p>\n",
       "</div>"
      ],
      "text/plain": [
       "      temperature   humidity        ph    rainfall       label\n",
       "0       20.879744  82.002744  6.502985  202.935536        rice\n",
       "1       21.770462  80.319644  7.038096  226.655537        rice\n",
       "2       23.004459  82.320763  7.840207  263.964248        rice\n",
       "3       26.491096  80.158363  6.980401  242.864034        rice\n",
       "4       20.130175  81.604873  7.628473  262.717340        rice\n",
       "...           ...        ...       ...         ...         ...\n",
       "3095    25.287846  89.636679  6.765095   58.286977  watermelon\n",
       "3096    26.638386  84.695469  6.189214   48.324286  watermelon\n",
       "3097    25.331045  84.305338  6.904242   41.532187  watermelon\n",
       "3098    26.897502  83.892415  6.463271   43.971937  watermelon\n",
       "3099    26.986037  89.413849  6.260839   58.548767  watermelon\n",
       "\n",
       "[3100 rows x 5 columns]"
      ]
     },
     "execution_count": 30,
     "metadata": {},
     "output_type": "execute_result"
    }
   ],
   "source": [
    "vf"
   ]
  },
  {
   "cell_type": "code",
   "execution_count": 34,
   "id": "443cc9df",
   "metadata": {},
   "outputs": [],
   "source": [
    "vf[\"label\"]=lb.fit_transform(vf[\"label\"])"
   ]
  },
  {
   "cell_type": "code",
   "execution_count": 35,
   "id": "28bac8ef",
   "metadata": {},
   "outputs": [
    {
     "data": {
      "text/html": [
       "<div>\n",
       "<style scoped>\n",
       "    .dataframe tbody tr th:only-of-type {\n",
       "        vertical-align: middle;\n",
       "    }\n",
       "\n",
       "    .dataframe tbody tr th {\n",
       "        vertical-align: top;\n",
       "    }\n",
       "\n",
       "    .dataframe thead th {\n",
       "        text-align: right;\n",
       "    }\n",
       "</style>\n",
       "<table border=\"1\" class=\"dataframe\">\n",
       "  <thead>\n",
       "    <tr style=\"text-align: right;\">\n",
       "      <th></th>\n",
       "      <th>temperature</th>\n",
       "      <th>humidity</th>\n",
       "      <th>ph</th>\n",
       "      <th>rainfall</th>\n",
       "      <th>label</th>\n",
       "    </tr>\n",
       "  </thead>\n",
       "  <tbody>\n",
       "    <tr>\n",
       "      <th>0</th>\n",
       "      <td>20.879744</td>\n",
       "      <td>82.002744</td>\n",
       "      <td>6.502985</td>\n",
       "      <td>202.935536</td>\n",
       "      <td>28</td>\n",
       "    </tr>\n",
       "    <tr>\n",
       "      <th>1</th>\n",
       "      <td>21.770462</td>\n",
       "      <td>80.319644</td>\n",
       "      <td>7.038096</td>\n",
       "      <td>226.655537</td>\n",
       "      <td>28</td>\n",
       "    </tr>\n",
       "    <tr>\n",
       "      <th>2</th>\n",
       "      <td>23.004459</td>\n",
       "      <td>82.320763</td>\n",
       "      <td>7.840207</td>\n",
       "      <td>263.964248</td>\n",
       "      <td>28</td>\n",
       "    </tr>\n",
       "    <tr>\n",
       "      <th>3</th>\n",
       "      <td>26.491096</td>\n",
       "      <td>80.158363</td>\n",
       "      <td>6.980401</td>\n",
       "      <td>242.864034</td>\n",
       "      <td>28</td>\n",
       "    </tr>\n",
       "    <tr>\n",
       "      <th>4</th>\n",
       "      <td>20.130175</td>\n",
       "      <td>81.604873</td>\n",
       "      <td>7.628473</td>\n",
       "      <td>262.717340</td>\n",
       "      <td>28</td>\n",
       "    </tr>\n",
       "    <tr>\n",
       "      <th>...</th>\n",
       "      <td>...</td>\n",
       "      <td>...</td>\n",
       "      <td>...</td>\n",
       "      <td>...</td>\n",
       "      <td>...</td>\n",
       "    </tr>\n",
       "    <tr>\n",
       "      <th>3095</th>\n",
       "      <td>25.287846</td>\n",
       "      <td>89.636679</td>\n",
       "      <td>6.765095</td>\n",
       "      <td>58.286977</td>\n",
       "      <td>29</td>\n",
       "    </tr>\n",
       "    <tr>\n",
       "      <th>3096</th>\n",
       "      <td>26.638386</td>\n",
       "      <td>84.695469</td>\n",
       "      <td>6.189214</td>\n",
       "      <td>48.324286</td>\n",
       "      <td>29</td>\n",
       "    </tr>\n",
       "    <tr>\n",
       "      <th>3097</th>\n",
       "      <td>25.331045</td>\n",
       "      <td>84.305338</td>\n",
       "      <td>6.904242</td>\n",
       "      <td>41.532187</td>\n",
       "      <td>29</td>\n",
       "    </tr>\n",
       "    <tr>\n",
       "      <th>3098</th>\n",
       "      <td>26.897502</td>\n",
       "      <td>83.892415</td>\n",
       "      <td>6.463271</td>\n",
       "      <td>43.971937</td>\n",
       "      <td>29</td>\n",
       "    </tr>\n",
       "    <tr>\n",
       "      <th>3099</th>\n",
       "      <td>26.986037</td>\n",
       "      <td>89.413849</td>\n",
       "      <td>6.260839</td>\n",
       "      <td>58.548767</td>\n",
       "      <td>29</td>\n",
       "    </tr>\n",
       "  </tbody>\n",
       "</table>\n",
       "<p>3100 rows × 5 columns</p>\n",
       "</div>"
      ],
      "text/plain": [
       "      temperature   humidity        ph    rainfall  label\n",
       "0       20.879744  82.002744  6.502985  202.935536     28\n",
       "1       21.770462  80.319644  7.038096  226.655537     28\n",
       "2       23.004459  82.320763  7.840207  263.964248     28\n",
       "3       26.491096  80.158363  6.980401  242.864034     28\n",
       "4       20.130175  81.604873  7.628473  262.717340     28\n",
       "...           ...        ...       ...         ...    ...\n",
       "3095    25.287846  89.636679  6.765095   58.286977     29\n",
       "3096    26.638386  84.695469  6.189214   48.324286     29\n",
       "3097    25.331045  84.305338  6.904242   41.532187     29\n",
       "3098    26.897502  83.892415  6.463271   43.971937     29\n",
       "3099    26.986037  89.413849  6.260839   58.548767     29\n",
       "\n",
       "[3100 rows x 5 columns]"
      ]
     },
     "execution_count": 35,
     "metadata": {},
     "output_type": "execute_result"
    }
   ],
   "source": [
    "vf"
   ]
  },
  {
   "cell_type": "code",
   "execution_count": 36,
   "id": "ab8fc83c",
   "metadata": {},
   "outputs": [],
   "source": [
    "x1=vf.drop([\"label\"],axis=1)"
   ]
  },
  {
   "cell_type": "code",
   "execution_count": 37,
   "id": "2f913268",
   "metadata": {},
   "outputs": [],
   "source": [
    "y1=vf[\"label\"]"
   ]
  },
  {
   "cell_type": "code",
   "execution_count": 38,
   "id": "59531428",
   "metadata": {},
   "outputs": [],
   "source": [
    "from sklearn.model_selection import train_test_split"
   ]
  },
  {
   "cell_type": "code",
   "execution_count": 39,
   "id": "c501daf5",
   "metadata": {},
   "outputs": [],
   "source": [
    "x_train,x_test,y_train,y_test=train_test_split(x1,y1,test_size=0.2,random_state=42)"
   ]
  },
  {
   "cell_type": "code",
   "execution_count": 40,
   "id": "b2987f28",
   "metadata": {},
   "outputs": [],
   "source": [
    "from sklearn.ensemble import RandomForestClassifier"
   ]
  },
  {
   "cell_type": "code",
   "execution_count": 41,
   "id": "d696e6a0",
   "metadata": {},
   "outputs": [],
   "source": [
    "rf1=RandomForestClassifier()"
   ]
  },
  {
   "cell_type": "code",
   "execution_count": 42,
   "id": "b2577dad",
   "metadata": {},
   "outputs": [
    {
     "data": {
      "text/html": [
       "<style>#sk-container-id-1 {color: black;background-color: white;}#sk-container-id-1 pre{padding: 0;}#sk-container-id-1 div.sk-toggleable {background-color: white;}#sk-container-id-1 label.sk-toggleable__label {cursor: pointer;display: block;width: 100%;margin-bottom: 0;padding: 0.3em;box-sizing: border-box;text-align: center;}#sk-container-id-1 label.sk-toggleable__label-arrow:before {content: \"▸\";float: left;margin-right: 0.25em;color: #696969;}#sk-container-id-1 label.sk-toggleable__label-arrow:hover:before {color: black;}#sk-container-id-1 div.sk-estimator:hover label.sk-toggleable__label-arrow:before {color: black;}#sk-container-id-1 div.sk-toggleable__content {max-height: 0;max-width: 0;overflow: hidden;text-align: left;background-color: #f0f8ff;}#sk-container-id-1 div.sk-toggleable__content pre {margin: 0.2em;color: black;border-radius: 0.25em;background-color: #f0f8ff;}#sk-container-id-1 input.sk-toggleable__control:checked~div.sk-toggleable__content {max-height: 200px;max-width: 100%;overflow: auto;}#sk-container-id-1 input.sk-toggleable__control:checked~label.sk-toggleable__label-arrow:before {content: \"▾\";}#sk-container-id-1 div.sk-estimator input.sk-toggleable__control:checked~label.sk-toggleable__label {background-color: #d4ebff;}#sk-container-id-1 div.sk-label input.sk-toggleable__control:checked~label.sk-toggleable__label {background-color: #d4ebff;}#sk-container-id-1 input.sk-hidden--visually {border: 0;clip: rect(1px 1px 1px 1px);clip: rect(1px, 1px, 1px, 1px);height: 1px;margin: -1px;overflow: hidden;padding: 0;position: absolute;width: 1px;}#sk-container-id-1 div.sk-estimator {font-family: monospace;background-color: #f0f8ff;border: 1px dotted black;border-radius: 0.25em;box-sizing: border-box;margin-bottom: 0.5em;}#sk-container-id-1 div.sk-estimator:hover {background-color: #d4ebff;}#sk-container-id-1 div.sk-parallel-item::after {content: \"\";width: 100%;border-bottom: 1px solid gray;flex-grow: 1;}#sk-container-id-1 div.sk-label:hover label.sk-toggleable__label {background-color: #d4ebff;}#sk-container-id-1 div.sk-serial::before {content: \"\";position: absolute;border-left: 1px solid gray;box-sizing: border-box;top: 0;bottom: 0;left: 50%;z-index: 0;}#sk-container-id-1 div.sk-serial {display: flex;flex-direction: column;align-items: center;background-color: white;padding-right: 0.2em;padding-left: 0.2em;position: relative;}#sk-container-id-1 div.sk-item {position: relative;z-index: 1;}#sk-container-id-1 div.sk-parallel {display: flex;align-items: stretch;justify-content: center;background-color: white;position: relative;}#sk-container-id-1 div.sk-item::before, #sk-container-id-1 div.sk-parallel-item::before {content: \"\";position: absolute;border-left: 1px solid gray;box-sizing: border-box;top: 0;bottom: 0;left: 50%;z-index: -1;}#sk-container-id-1 div.sk-parallel-item {display: flex;flex-direction: column;z-index: 1;position: relative;background-color: white;}#sk-container-id-1 div.sk-parallel-item:first-child::after {align-self: flex-end;width: 50%;}#sk-container-id-1 div.sk-parallel-item:last-child::after {align-self: flex-start;width: 50%;}#sk-container-id-1 div.sk-parallel-item:only-child::after {width: 0;}#sk-container-id-1 div.sk-dashed-wrapped {border: 1px dashed gray;margin: 0 0.4em 0.5em 0.4em;box-sizing: border-box;padding-bottom: 0.4em;background-color: white;}#sk-container-id-1 div.sk-label label {font-family: monospace;font-weight: bold;display: inline-block;line-height: 1.2em;}#sk-container-id-1 div.sk-label-container {text-align: center;}#sk-container-id-1 div.sk-container {/* jupyter's `normalize.less` sets `[hidden] { display: none; }` but bootstrap.min.css set `[hidden] { display: none !important; }` so we also need the `!important` here to be able to override the default hidden behavior on the sphinx rendered scikit-learn.org. See: https://github.com/scikit-learn/scikit-learn/issues/21755 */display: inline-block !important;position: relative;}#sk-container-id-1 div.sk-text-repr-fallback {display: none;}</style><div id=\"sk-container-id-1\" class=\"sk-top-container\"><div class=\"sk-text-repr-fallback\"><pre>RandomForestClassifier()</pre><b>In a Jupyter environment, please rerun this cell to show the HTML representation or trust the notebook. <br />On GitHub, the HTML representation is unable to render, please try loading this page with nbviewer.org.</b></div><div class=\"sk-container\" hidden><div class=\"sk-item\"><div class=\"sk-estimator sk-toggleable\"><input class=\"sk-toggleable__control sk-hidden--visually\" id=\"sk-estimator-id-1\" type=\"checkbox\" checked><label for=\"sk-estimator-id-1\" class=\"sk-toggleable__label sk-toggleable__label-arrow\">RandomForestClassifier</label><div class=\"sk-toggleable__content\"><pre>RandomForestClassifier()</pre></div></div></div></div></div>"
      ],
      "text/plain": [
       "RandomForestClassifier()"
      ]
     },
     "execution_count": 42,
     "metadata": {},
     "output_type": "execute_result"
    }
   ],
   "source": [
    "rf1.fit(x_train,y_train)"
   ]
  },
  {
   "cell_type": "code",
   "execution_count": 43,
   "id": "f3c8a688",
   "metadata": {},
   "outputs": [],
   "source": [
    "y_pred=rf1.predict(x_test)"
   ]
  },
  {
   "cell_type": "code",
   "execution_count": 44,
   "id": "386d63a9",
   "metadata": {},
   "outputs": [
    {
     "data": {
      "text/plain": [
       "array([15, 25,  1, 10, 12, 13, 22, 17, 16,  3, 21, 11,  9, 24, 26,  5, 19,\n",
       "        9, 22, 17, 25, 23, 14, 11, 24, 27, 27, 23, 22, 21,  1,  3, 13,  9,\n",
       "       14, 20,  8, 30, 22,  8, 26, 20, 16, 17,  0, 25,  1, 13, 18, 27,  6,\n",
       "       11, 20, 13, 26, 30, 21, 30, 17, 23, 17, 15, 25, 18, 23,  1, 25, 27,\n",
       "       11, 29,  8, 17, 11,  7, 11, 20, 22, 25, 17, 28, 30, 28, 25, 13, 27,\n",
       "        0, 27,  1, 28, 26,  1, 20, 10,  5, 16, 19,  6, 28,  0, 19, 17, 26,\n",
       "       29, 18,  5,  7, 20,  0, 30,  1, 13, 30, 21, 12, 30, 21, 24, 23, 15,\n",
       "       11, 23, 10, 11, 19, 29,  1, 30,  7, 20,  6, 22, 27,  6,  2, 26, 21,\n",
       "       12, 17, 27, 21,  8,  2,  4, 25, 16, 28,  1, 26, 11, 24, 11, 27, 28,\n",
       "       22, 28, 28,  4,  0, 28, 16, 30, 10, 29,  2, 12, 16,  2, 26,  1, 10,\n",
       "        7, 17, 27, 19, 11, 30, 30, 21,  6, 11,  6, 21, 15,  0,  0, 21, 29,\n",
       "       14, 19, 21, 11,  4, 13, 21, 11,  4, 14, 11, 21,  1,  3, 29,  0, 17,\n",
       "        2, 21, 15, 21, 23, 14,  2, 18,  1,  7, 25, 29, 21,  3, 14,  1, 22,\n",
       "       17, 14, 17,  6,  7, 23,  6,  9, 12, 16,  3,  3, 12, 10, 18,  4,  1,\n",
       "       26,  0, 20,  7,  9,  9, 21, 10, 11, 14, 27, 17, 21, 12,  4, 17, 27,\n",
       "       19, 12, 15,  3, 20, 25, 14,  4, 24, 28, 19,  4, 29, 15, 30, 25, 22,\n",
       "       16, 29, 28, 19,  1, 16,  7,  0,  4,  6, 12, 20, 16, 24, 28,  0, 15,\n",
       "       13, 28, 23, 19, 23,  2,  8,  0, 26, 14, 26,  3,  6, 22, 13, 21, 20,\n",
       "        8, 15,  6, 24, 12, 13, 23,  1,  8, 30, 29,  9,  6, 14, 16,  8,  7,\n",
       "       28,  0, 12, 19, 25, 29, 23, 18, 12,  3,  3, 23,  4, 14, 20,  8,  0,\n",
       "       30,  2, 15,  4, 23, 17, 19,  9, 18, 24,  4,  4, 25,  9,  3, 22, 18,\n",
       "       22, 30, 27,  6, 17, 21, 24, 20,  3, 23, 12, 17,  6, 24,  5, 30, 27,\n",
       "       25, 24,  4, 14,  3,  5, 24, 28,  2, 23,  5,  4,  4, 26, 11, 16, 14,\n",
       "        7, 24, 19, 14,  4, 12,  0, 22, 15, 23, 24,  1, 28, 10, 28, 24, 18,\n",
       "        0, 25, 14, 18, 22,  6, 26,  6, 22,  2, 23, 23, 23, 24,  5,  6, 24,\n",
       "       13, 16, 20,  6,  3,  7, 25,  9, 29, 24, 12, 18, 29, 11, 18, 15, 17,\n",
       "       15, 14, 22, 19, 22,  5, 23, 15, 26,  3, 13, 25, 27,  6,  2, 26,  9,\n",
       "        1, 29,  3,  9,  8, 23,  4, 21, 27, 22, 30,  2, 29,  2, 28, 16, 25,\n",
       "        4, 13, 14, 14, 23,  8,  4, 13, 14,  7, 10, 16, 19, 15,  4,  9,  5,\n",
       "       27, 22,  7, 22, 28,  6,  9, 14,  4, 28, 27,  7,  0,  8, 13, 27, 25,\n",
       "        9, 16, 24, 19,  7, 12,  5, 12,  2, 12, 14, 29, 25, 10, 23, 22, 29,\n",
       "       12,  3, 16, 11,  6, 10, 19, 30, 14, 25, 26, 17,  9, 23,  9,  8, 25,\n",
       "        2,  9, 18, 26, 20, 14, 16, 30, 15, 19,  4, 20, 16, 13, 28, 22, 28,\n",
       "       24,  5,  8, 23, 27, 23, 28, 28,  4, 25,  1, 11,  7, 17,  3, 27,  4,\n",
       "       21, 30, 22, 18, 18,  2, 10, 22, 19, 16,  2,  2, 19, 29, 17, 11, 21,\n",
       "       27, 19, 19, 19,  5, 17, 18,  0, 24,  3, 11, 21,  2, 10,  9,  6, 16,\n",
       "       15,  1, 20, 20, 24, 18, 12,  8])"
      ]
     },
     "execution_count": 44,
     "metadata": {},
     "output_type": "execute_result"
    }
   ],
   "source": [
    "y_pred"
   ]
  },
  {
   "cell_type": "code",
   "execution_count": 45,
   "id": "85650b1f",
   "metadata": {},
   "outputs": [],
   "source": [
    "from sklearn.metrics import accuracy_score"
   ]
  },
  {
   "cell_type": "code",
   "execution_count": 46,
   "id": "ba979e12",
   "metadata": {},
   "outputs": [],
   "source": [
    "acc1=accuracy_score(y_test,y_pred)"
   ]
  },
  {
   "cell_type": "code",
   "execution_count": 47,
   "id": "b63ac80a",
   "metadata": {},
   "outputs": [
    {
     "data": {
      "text/plain": [
       "0.9516129032258065"
      ]
     },
     "execution_count": 47,
     "metadata": {},
     "output_type": "execute_result"
    }
   ],
   "source": [
    "acc1"
   ]
  },
  {
   "cell_type": "code",
   "execution_count": 48,
   "id": "df8224ba",
   "metadata": {},
   "outputs": [],
   "source": [
    "#we have builded the model."
   ]
  },
  {
   "cell_type": "code",
   "execution_count": 49,
   "id": "192f56c7",
   "metadata": {},
   "outputs": [],
   "source": [
    "import pickle"
   ]
  },
  {
   "cell_type": "code",
   "execution_count": 50,
   "id": "abaaab9d",
   "metadata": {},
   "outputs": [],
   "source": [
    "pickle.dump(rf1,open(\"model.pkl\",\"wb\"))"
   ]
  },
  {
   "cell_type": "code",
   "execution_count": null,
   "id": "abfaedfe",
   "metadata": {},
   "outputs": [],
   "source": []
  }
 ],
 "metadata": {
  "kernelspec": {
   "display_name": "Python 3 (ipykernel)",
   "language": "python",
   "name": "python3"
  },
  "language_info": {
   "codemirror_mode": {
    "name": "ipython",
    "version": 3
   },
   "file_extension": ".py",
   "mimetype": "text/x-python",
   "name": "python",
   "nbconvert_exporter": "python",
   "pygments_lexer": "ipython3",
   "version": "3.11.0"
  }
 },
 "nbformat": 4,
 "nbformat_minor": 5
}
